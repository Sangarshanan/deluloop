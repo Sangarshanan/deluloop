{
 "cells": [
  {
   "cell_type": "code",
   "execution_count": null,
   "id": "3ed8978e-5325-4ecf-8b0e-2680d83ce4da",
   "metadata": {},
   "outputs": [],
   "source": [
    "import os \n",
    "from huggingface_hub import login\n",
    "from audiocraft.models import JASCO\n",
    "\n",
    "model = JASCO.get_pretrained(\n",
    "\t'facebook/jasco-chords-drums-melody-400M',\n",
    "\tchords_mapping_path='assets/chord_to_index_mapping.pkl',\n",
    ")\n",
    "\n",
    "model.set_generation_params(\n",
    "    cfg_coef_all=1.5,\n",
    "    cfg_coef_txt=0.5\n",
    ")"
   ]
  },
  {
   "cell_type": "code",
   "execution_count": null,
   "id": "13c290d9-e841-4264-b5ea-e86086961b23",
   "metadata": {},
   "outputs": [],
   "source": [
    "import torchaudio\n",
    "from audiocraft.utils.notebook import display_audio\n",
    "\n",
    "\n",
    "# load drum prompt\n",
    "drums_waveform, sr = torchaudio.load(\"assets/sample-drums.wav\")\n",
    "\n",
    "# set textual prompt \n",
    "text = \"Heavy Guitar\"\n",
    "\n",
    "# run the model\n",
    "print(\"Generating...\")\n",
    "output = model.generate_music(\n",
    "    descriptions=[text],\n",
    "    drums_wav=drums_waveform,\n",
    "    drums_sample_rate=sr,\n",
    "    progress=True\n",
    ")\n",
    "\n",
    "# display the result\n",
    "print('drum prompt:')\n",
    "display_audio(drums_waveform, sample_rate=sr)\n",
    "print(f'Text: {text}')\n",
    "display_audio(output, sample_rate=model.compression_model.sample_rate)"
   ]
  }
 ],
 "metadata": {
  "kernelspec": {
   "display_name": "Python 3 (ipykernel)",
   "language": "python",
   "name": "python3"
  },
  "language_info": {
   "codemirror_mode": {
    "name": "ipython",
    "version": 3
   },
   "file_extension": ".py",
   "mimetype": "text/x-python",
   "name": "python",
   "nbconvert_exporter": "python",
   "pygments_lexer": "ipython3",
   "version": "3.9.19"
  }
 },
 "nbformat": 4,
 "nbformat_minor": 5
}
